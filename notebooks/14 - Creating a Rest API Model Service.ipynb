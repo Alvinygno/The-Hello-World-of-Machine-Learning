{
 "cells": [
  {
   "cell_type": "markdown",
   "metadata": {},
   "source": [
    "__Scenario 1__\n",
    "\n",
    "Bill: `Hi there, what time do you open tomorrow for lunch?`\n",
    "\n",
    "Bot: `Our hours are 9am-10pm everday.`\n",
    "\n",
    "__Scenario 2__\n",
    "\n",
    "Karen: `Can I speak to your manager?`\n",
    "\n",
    "Bot: `You can contact our customer support at 555-555-555.5`\n",
    "\n",
    "\n",
    "__Scenario 3__\n",
    "\n",
    "Wade: `What type of products do you have?`\n",
    "\n",
    "Bot: `We carry various food items including tacos, nachos, burritos, and salads.`"
   ]
  },
  {
   "cell_type": "code",
   "execution_count": 1,
   "metadata": {},
   "outputs": [],
   "source": [
    "conversations = [\n",
    "    {\n",
    "        \"customer\": \"Hi there, what time do you open tomorrow for lunch?\",\n",
    "        \"response\": \"Our hours are 9am-10pm everday.\"\n",
    "    },\n",
    "     {\n",
    "        \"customer\": \"Can I speak to your manager?\",\n",
    "        \"response\": \"You can contact our customer support at 555-555-5555.\"\n",
    "    },\n",
    "     {\n",
    "        \"customer\": \"What type of products do you have?\",\n",
    "        \"response\": \"We carry various food items including tacos, nachos, burritos, and salads.\"\n",
    "    }  \n",
    "    \n",
    "]"
   ]
  },
  {
   "cell_type": "code",
   "execution_count": 2,
   "metadata": {},
   "outputs": [],
   "source": [
    "# while True:\n",
    "#     my_input = input(\"What is your question?\\n\")\n",
    "#     response = None\n",
    "#     for convo in conversations:\n",
    "#         if convo['customer'] == my_input:\n",
    "#             response = convo['response']\n",
    "#     if response != None:\n",
    "#         print(response)\n",
    "#         break\n",
    "#     print(\"I don't know\")\n",
    "#     continue"
   ]
  },
  {
   "cell_type": "code",
   "execution_count": 3,
   "metadata": {},
   "outputs": [],
   "source": [
    "convos_one = [\n",
    "    {\n",
    "        \"customer\": \"Hi there, what time do you open tomorrow for lunch?\",\n",
    "        \"tags\": [\"opening\", \"closing\", \"hours\"],\n",
    "    },\n",
    "     {\n",
    "        \"customer\": \"Can I speak to your manager?\",\n",
    "        \"tags\": [\"customer_support\"],\n",
    "    },\n",
    "    {\n",
    "        \"customer\": \"The food was amazing thank you!\",\n",
    "        \"tags\": [\"customer_support\", \"feedback\"],\n",
    "    },\n",
    "     {\n",
    "      \"customer\": \"What type of products do you have?\",\n",
    "       \"tags\": [\"products\", \"menu\", \"inventory\", \"food\"],\n",
    "    }  \n",
    "    \n",
    "]"
   ]
  },
  {
   "cell_type": "code",
   "execution_count": 4,
   "metadata": {},
   "outputs": [],
   "source": [
    "convos_two = [\n",
    "    {\n",
    "        \"customer\": \"How late is your kitchen open?\",\n",
    "        \"tags\": [\"opening\", \"hours\", \"closing\"],\n",
    "    },\n",
    "     {\n",
    "        \"customer\": \"My order was prepared incorrectly, how can I get this fixed?\",\n",
    "        \"tags\": [\"customer_support\"],\n",
    "    },\n",
    "    {\n",
    "        \"customer\": \"What kind of meats do you have?\",\n",
    "        \"tags\": [\"menu\", \"products\", \"inventory\", \"food\"],\n",
    "    }\n",
    "]"
   ]
  },
  {
   "cell_type": "code",
   "execution_count": 5,
   "metadata": {},
   "outputs": [],
   "source": [
    "convos_three = [\n",
    "    {\n",
    "        \"customer\": \"When does your dining room open?\",\n",
    "        \"tags\": ['opening', 'hours'],\n",
    "    },\n",
    "     {\n",
    "        \"customer\": \"When do you open for dinner?\",\n",
    "        \"tags\": ['opening', 'hours', \"closing\"],\n",
    "    },\n",
    "    {\n",
    "        \"customer\": \"How do I contact you?\",\n",
    "        \"tags\": [\"contact\", \"customer_support\"]\n",
    "    }\n",
    "]"
   ]
  },
  {
   "cell_type": "code",
   "execution_count": 6,
   "metadata": {},
   "outputs": [
    {
     "data": {
      "text/plain": [
       "[{'customer': 'Hi there, what time do you open tomorrow for lunch?',\n",
       "  'tags': ['opening', 'closing', 'hours']},\n",
       " {'customer': 'Can I speak to your manager?', 'tags': ['customer_support']},\n",
       " {'customer': 'The food was amazing thank you!',\n",
       "  'tags': ['customer_support', 'feedback']},\n",
       " {'customer': 'What type of products do you have?',\n",
       "  'tags': ['products', 'menu', 'inventory', 'food']},\n",
       " {'customer': 'How late is your kitchen open?',\n",
       "  'tags': ['opening', 'hours', 'closing']},\n",
       " {'customer': 'My order was prepared incorrectly, how can I get this fixed?',\n",
       "  'tags': ['customer_support']},\n",
       " {'customer': 'What kind of meats do you have?',\n",
       "  'tags': ['menu', 'products', 'inventory', 'food']},\n",
       " {'customer': 'When does your dining room open?',\n",
       "  'tags': ['opening', 'hours']},\n",
       " {'customer': 'When do you open for dinner?',\n",
       "  'tags': ['opening', 'hours', 'closing']},\n",
       " {'customer': 'How do I contact you?',\n",
       "  'tags': ['contact', 'customer_support']}]"
      ]
     },
     "execution_count": 6,
     "metadata": {},
     "output_type": "execute_result"
    }
   ],
   "source": [
    "dataset = convos_one + convos_two + convos_three\n",
    "dataset"
   ]
  },
  {
   "cell_type": "code",
   "execution_count": 7,
   "metadata": {},
   "outputs": [
    {
     "name": "stdout",
     "output_type": "stream",
     "text": [
      "['Hi there, what time do you open tomorrow for lunch?', 'Can I speak to your manager?', 'The food was amazing thank you!', 'What type of products do you have?', 'How late is your kitchen open?', 'My order was prepared incorrectly, how can I get this fixed?', 'What kind of meats do you have?', 'When does your dining room open?', 'When do you open for dinner?', 'How do I contact you?']\n"
     ]
    }
   ],
   "source": [
    "inputs = [x['customer'] for x in dataset]\n",
    "print(inputs)"
   ]
  },
  {
   "cell_type": "code",
   "execution_count": 8,
   "metadata": {},
   "outputs": [
    {
     "name": "stdout",
     "output_type": "stream",
     "text": [
      "[['opening', 'closing', 'hours'], ['customer_support'], ['customer_support', 'feedback'], ['products', 'menu', 'inventory', 'food'], ['opening', 'hours', 'closing'], ['customer_support'], ['menu', 'products', 'inventory', 'food'], ['opening', 'hours'], ['opening', 'hours', 'closing'], ['contact', 'customer_support']]\n"
     ]
    }
   ],
   "source": [
    "outputs = [x['tags'] for x in dataset]\n",
    "print(outputs)"
   ]
  },
  {
   "cell_type": "code",
   "execution_count": 9,
   "metadata": {},
   "outputs": [],
   "source": [
    "assert(len(inputs) == len(outputs))"
   ]
  },
  {
   "cell_type": "code",
   "execution_count": 10,
   "metadata": {},
   "outputs": [
    {
     "name": "stdout",
     "output_type": "stream",
     "text": [
      "How late is your kitchen open? ['opening', 'hours', 'closing']\n",
      "{'customer': 'How late is your kitchen open?', 'tags': ['opening', 'hours', 'closing']}\n"
     ]
    }
   ],
   "source": [
    "idx = 4\n",
    "print(inputs[idx], outputs[idx])\n",
    "print(dataset[idx])"
   ]
  },
  {
   "cell_type": "markdown",
   "metadata": {},
   "source": [
    "- `customer`: These values are really the `input` values for our ML project. Input values are sometimes called `source`, `feature`, `training`, `X`, `X_train`/`X_test`/`X_valid`, and a few others.\n",
    "- `tags`: These values are really the `output` values for our ML project. Output values are sometimes called `target`, `labels`, `y`, `y_train`/`y_test`/`y_valid`, `classes`/`class`, and a few others."
   ]
  },
  {
   "cell_type": "code",
   "execution_count": 11,
   "metadata": {},
   "outputs": [],
   "source": [
    "def my_pred_function(inputs):\n",
    "    # pred\n",
    "    outputs = inputs * 0.39013 # \n",
    "    return outputs"
   ]
  },
  {
   "cell_type": "code",
   "execution_count": 12,
   "metadata": {},
   "outputs": [
    {
     "name": "stdout",
     "output_type": "stream",
     "text": [
      "Requirement already satisfied: scikit-learn in /Users/cfe/.local/share/virtualenvs/ml-hello-world-rt2goiiz/lib/python3.8/site-packages (0.23.1)\n",
      "Requirement already satisfied: threadpoolctl>=2.0.0 in /Users/cfe/.local/share/virtualenvs/ml-hello-world-rt2goiiz/lib/python3.8/site-packages (from scikit-learn) (2.1.0)\n",
      "Requirement already satisfied: scipy>=0.19.1 in /Users/cfe/.local/share/virtualenvs/ml-hello-world-rt2goiiz/lib/python3.8/site-packages (from scikit-learn) (1.5.1)\n",
      "Requirement already satisfied: numpy>=1.13.3 in /Users/cfe/.local/share/virtualenvs/ml-hello-world-rt2goiiz/lib/python3.8/site-packages (from scikit-learn) (1.19.1)\n",
      "Requirement already satisfied: joblib>=0.11 in /Users/cfe/.local/share/virtualenvs/ml-hello-world-rt2goiiz/lib/python3.8/site-packages (from scikit-learn) (0.16.0)\n"
     ]
    }
   ],
   "source": [
    "!pip install scikit-learn"
   ]
  },
  {
   "cell_type": "code",
   "execution_count": 13,
   "metadata": {},
   "outputs": [],
   "source": [
    "from sklearn.feature_extraction.text import CountVectorizer\n",
    "\n",
    "vectorizer = CountVectorizer()\n",
    "\n",
    "X = vectorizer.fit_transform(inputs)"
   ]
  },
  {
   "cell_type": "code",
   "execution_count": 14,
   "metadata": {},
   "outputs": [
    {
     "data": {
      "text/plain": [
       "(10, 43)"
      ]
     },
     "execution_count": 14,
     "metadata": {},
     "output_type": "execute_result"
    }
   ],
   "source": [
    "X.shape"
   ]
  },
  {
   "cell_type": "code",
   "execution_count": 15,
   "metadata": {},
   "outputs": [
    {
     "name": "stdout",
     "output_type": "stream",
     "text": [
      "['amazing', 'can', 'contact', 'dining', 'dinner', 'do', 'does', 'fixed', 'food', 'for', 'get', 'have', 'hi', 'how', 'incorrectly', 'is', 'kind', 'kitchen', 'late', 'lunch', 'manager', 'meats', 'my', 'of', 'open', 'order', 'prepared', 'products', 'room', 'speak', 'thank', 'the', 'there', 'this', 'time', 'to', 'tomorrow', 'type', 'was', 'what', 'when', 'you', 'your']\n"
     ]
    }
   ],
   "source": [
    "words = vectorizer.get_feature_names()\n",
    "print(words)"
   ]
  },
  {
   "cell_type": "code",
   "execution_count": 16,
   "metadata": {},
   "outputs": [
    {
     "data": {
      "text/plain": [
       "43"
      ]
     },
     "execution_count": 16,
     "metadata": {},
     "output_type": "execute_result"
    }
   ],
   "source": [
    "len(words)"
   ]
  },
  {
   "cell_type": "code",
   "execution_count": 17,
   "metadata": {},
   "outputs": [],
   "source": [
    "from sklearn.preprocessing import MultiLabelBinarizer\n",
    "\n",
    "mlb = MultiLabelBinarizer()\n",
    "\n",
    "y = mlb.fit_transform(outputs)"
   ]
  },
  {
   "cell_type": "code",
   "execution_count": 18,
   "metadata": {},
   "outputs": [
    {
     "data": {
      "text/plain": [
       "array(['closing', 'contact', 'customer_support', 'feedback', 'food',\n",
       "       'hours', 'inventory', 'menu', 'opening', 'products'], dtype=object)"
      ]
     },
     "execution_count": 18,
     "metadata": {},
     "output_type": "execute_result"
    }
   ],
   "source": [
    "mlb.classes_"
   ]
  },
  {
   "cell_type": "code",
   "execution_count": 19,
   "metadata": {},
   "outputs": [
    {
     "data": {
      "text/plain": [
       "array([[1, 0, 0, 0, 0, 1, 0, 0, 1, 0],\n",
       "       [0, 0, 1, 0, 0, 0, 0, 0, 0, 0],\n",
       "       [0, 0, 1, 1, 0, 0, 0, 0, 0, 0],\n",
       "       [0, 0, 0, 0, 1, 0, 1, 1, 0, 1],\n",
       "       [1, 0, 0, 0, 0, 1, 0, 0, 1, 0],\n",
       "       [0, 0, 1, 0, 0, 0, 0, 0, 0, 0],\n",
       "       [0, 0, 0, 0, 1, 0, 1, 1, 0, 1],\n",
       "       [0, 0, 0, 0, 0, 1, 0, 0, 1, 0],\n",
       "       [1, 0, 0, 0, 0, 1, 0, 0, 1, 0],\n",
       "       [0, 1, 1, 0, 0, 0, 0, 0, 0, 0]])"
      ]
     },
     "execution_count": 19,
     "metadata": {},
     "output_type": "execute_result"
    }
   ],
   "source": [
    "y"
   ]
  },
  {
   "cell_type": "code",
   "execution_count": 20,
   "metadata": {},
   "outputs": [
    {
     "data": {
      "text/plain": [
       "(10, 10)"
      ]
     },
     "execution_count": 20,
     "metadata": {},
     "output_type": "execute_result"
    }
   ],
   "source": [
    "y.shape"
   ]
  },
  {
   "cell_type": "code",
   "execution_count": 21,
   "metadata": {},
   "outputs": [],
   "source": [
    "assert y.shape[0] == X.shape[0]\n",
    "assert y.shape[0] == len(inputs)"
   ]
  },
  {
   "cell_type": "markdown",
   "metadata": {},
   "source": [
    "### Training with `scikit-lean`"
   ]
  },
  {
   "cell_type": "code",
   "execution_count": 22,
   "metadata": {},
   "outputs": [],
   "source": [
    "from sklearn.multioutput import MultiOutputClassifier\n",
    "from sklearn.ensemble import RandomForestClassifier\n",
    "forest = RandomForestClassifier(random_state=1)\n",
    "model = MultiOutputClassifier(forest, n_jobs=-1)"
   ]
  },
  {
   "cell_type": "code",
   "execution_count": 23,
   "metadata": {},
   "outputs": [
    {
     "data": {
      "text/plain": [
       "MultiOutputClassifier(estimator=RandomForestClassifier(random_state=1),\n",
       "                      n_jobs=-1)"
      ]
     },
     "execution_count": 23,
     "metadata": {},
     "output_type": "execute_result"
    }
   ],
   "source": [
    "model.fit(X, y)"
   ]
  },
  {
   "cell_type": "markdown",
   "metadata": {},
   "source": [
    "### Prediction"
   ]
  },
  {
   "cell_type": "code",
   "execution_count": 24,
   "metadata": {},
   "outputs": [
    {
     "data": {
      "text/plain": [
       "<1x43 sparse matrix of type '<class 'numpy.int64'>'\n",
       "\twith 4 stored elements in Compressed Sparse Row format>"
      ]
     },
     "execution_count": 24,
     "metadata": {},
     "output_type": "execute_result"
    }
   ],
   "source": [
    "txt = \"Hi, when do you close?\"\n",
    "input_vector = vectorizer.transform([txt])\n",
    "input_vector"
   ]
  },
  {
   "cell_type": "code",
   "execution_count": 25,
   "metadata": {},
   "outputs": [
    {
     "name": "stdout",
     "output_type": "stream",
     "text": [
      "[[0 0 0 0 0 0 0 0 0 0]]\n"
     ]
    }
   ],
   "source": [
    "output_vector = model.predict(input_vector)\n",
    "print(output_vector)"
   ]
  },
  {
   "cell_type": "code",
   "execution_count": 26,
   "metadata": {},
   "outputs": [],
   "source": [
    "preds = {}\n",
    "classes = mlb.classes_\n",
    "for i, val in enumerate(output_vector[0]):\n",
    "    preds[classes[i]] = val"
   ]
  },
  {
   "cell_type": "code",
   "execution_count": 27,
   "metadata": {},
   "outputs": [
    {
     "data": {
      "text/plain": [
       "{'closing': 0,\n",
       " 'contact': 0,\n",
       " 'customer_support': 0,\n",
       " 'feedback': 0,\n",
       " 'food': 0,\n",
       " 'hours': 0,\n",
       " 'inventory': 0,\n",
       " 'menu': 0,\n",
       " 'opening': 0,\n",
       " 'products': 0}"
      ]
     },
     "execution_count": 27,
     "metadata": {},
     "output_type": "execute_result"
    }
   ],
   "source": [
    "preds"
   ]
  },
  {
   "cell_type": "code",
   "execution_count": 28,
   "metadata": {},
   "outputs": [],
   "source": [
    "def label_predictor(txt='Hello world'):\n",
    "    # pred\n",
    "    input_vector = vectorizer.transform([txt])\n",
    "    output_vector = model.predict(input_vector)\n",
    "    preds = {}\n",
    "    classes = mlb.classes_\n",
    "    for i, val in enumerate(output_vector[0]):\n",
    "        preds[classes[i]] = val\n",
    "    return preds"
   ]
  },
  {
   "cell_type": "code",
   "execution_count": 29,
   "metadata": {},
   "outputs": [
    {
     "data": {
      "text/plain": [
       "{'closing': 0,\n",
       " 'contact': 0,\n",
       " 'customer_support': 0,\n",
       " 'feedback': 0,\n",
       " 'food': 0,\n",
       " 'hours': 0,\n",
       " 'inventory': 0,\n",
       " 'menu': 0,\n",
       " 'opening': 0,\n",
       " 'products': 0}"
      ]
     },
     "execution_count": 29,
     "metadata": {},
     "output_type": "execute_result"
    }
   ],
   "source": [
    "label_predictor()"
   ]
  },
  {
   "cell_type": "code",
   "execution_count": 30,
   "metadata": {},
   "outputs": [
    {
     "data": {
      "text/plain": [
       "{'closing': 0,\n",
       " 'contact': 0,\n",
       " 'customer_support': 0,\n",
       " 'feedback': 0,\n",
       " 'food': 0,\n",
       " 'hours': 1,\n",
       " 'inventory': 0,\n",
       " 'menu': 0,\n",
       " 'opening': 1,\n",
       " 'products': 0}"
      ]
     },
     "execution_count": 30,
     "metadata": {},
     "output_type": "execute_result"
    }
   ],
   "source": [
    "label_predictor(\"When do you open?\")"
   ]
  },
  {
   "cell_type": "code",
   "execution_count": 31,
   "metadata": {},
   "outputs": [
    {
     "data": {
      "text/plain": [
       "{'closing': 0,\n",
       " 'contact': 0,\n",
       " 'customer_support': 0,\n",
       " 'feedback': 0,\n",
       " 'food': 0,\n",
       " 'hours': 0,\n",
       " 'inventory': 0,\n",
       " 'menu': 0,\n",
       " 'opening': 0,\n",
       " 'products': 0}"
      ]
     },
     "execution_count": 31,
     "metadata": {},
     "output_type": "execute_result"
    }
   ],
   "source": [
    "label_predictor(\"When are you opening tomorrow?\")"
   ]
  },
  {
   "cell_type": "markdown",
   "metadata": {},
   "source": [
    "### Export Model for Re-Use"
   ]
  },
  {
   "cell_type": "code",
   "execution_count": 32,
   "metadata": {},
   "outputs": [],
   "source": [
    "import pickle\n",
    "# classes\n",
    "# model\n",
    "# vectorizer\n",
    "\n",
    "model_data = {\n",
    "    \"classes\": list(mlb.classes_),\n",
    "    \"model\": model,\n",
    "    \"vectorizer\": vectorizer\n",
    "}\n",
    "\n",
    "with open(\"model.pkl\", 'wb') as f:\n",
    "    pickle.dump(model_data, f)"
   ]
  },
  {
   "cell_type": "markdown",
   "metadata": {},
   "source": [
    "### Re-use Exported Model"
   ]
  },
  {
   "cell_type": "code",
   "execution_count": 33,
   "metadata": {},
   "outputs": [
    {
     "data": {
      "text/plain": [
       "{'closing': 0,\n",
       " 'contact': 0,\n",
       " 'customer_support': 0,\n",
       " 'feedback': 0,\n",
       " 'food': 0,\n",
       " 'hours': 1,\n",
       " 'inventory': 0,\n",
       " 'menu': 0,\n",
       " 'opening': 1,\n",
       " 'products': 0}"
      ]
     },
     "execution_count": 33,
     "metadata": {},
     "output_type": "execute_result"
    }
   ],
   "source": [
    "model_loaded_data = {}\n",
    "\n",
    "with open(\"model.pkl\", 'rb') as f:\n",
    "    model_loaded_data = pickle.loads(f.read())\n",
    "\n",
    "def label_predictor_from_export(txt='Hello world', \n",
    "                                vectorizer=None, \n",
    "                                model=None, \n",
    "                                classes=[], \n",
    "                                *args, \n",
    "                                **kwargs):\n",
    "    # pred\n",
    "    assert(vectorizer!=None)\n",
    "    assert(model != None)\n",
    "    input_vector = vectorizer.transform([txt])\n",
    "    output_vector = model.predict(input_vector)\n",
    "    assert(len(output_vector[0]) == len(classes))\n",
    "    preds = {}\n",
    "    classes = mlb.classes_\n",
    "    for i, val in enumerate(output_vector[0]):\n",
    "        preds[classes[i]] = val\n",
    "    return preds\n",
    "\n",
    "label_predictor_from_export(\"When does your kitchen close?\", **model_loaded_data)"
   ]
  },
  {
   "cell_type": "markdown",
   "metadata": {},
   "source": [
    "### Retraining with New Data"
   ]
  },
  {
   "cell_type": "code",
   "execution_count": 34,
   "metadata": {},
   "outputs": [],
   "source": [
    "from sklearn.feature_extraction.text import CountVectorizer\n",
    "from sklearn.preprocessing import MultiLabelBinarizer\n",
    "from sklearn.multioutput import MultiOutputClassifier\n",
    "from sklearn.ensemble import RandomForestClassifier\n",
    "\n",
    "def train(dataset, train_col='customer', label_col='tags', export_path='model.pkl'):\n",
    "    inputs = [x[train_col] for x in dataset]\n",
    "    outputs = [x[label_col] for x in dataset]\n",
    "    assert(len(inputs) == len(outputs))\n",
    "    vectorizer = CountVectorizer()\n",
    "    X = vectorizer.fit_transform(inputs)\n",
    "    mlb = MultiLabelBinarizer()\n",
    "    y = mlb.fit_transform(outputs)\n",
    "    classes = list(mlb.classes_)\n",
    "    forest = RandomForestClassifier(random_state=1)\n",
    "    model = MultiOutputClassifier(forest, n_jobs=-1)\n",
    "    model.fit(X, y)\n",
    "    model_data = {\n",
    "        \"classes\": list(mlb.classes_),\n",
    "        \"model\": model,\n",
    "        \"vectorizer\": vectorizer\n",
    "    }\n",
    "    with open(export_path, 'wb') as f:\n",
    "        pickle.dump(model_data, f)\n",
    "    return export_path"
   ]
  },
  {
   "cell_type": "code",
   "execution_count": 35,
   "metadata": {},
   "outputs": [],
   "source": [
    "# dataset"
   ]
  },
  {
   "cell_type": "code",
   "execution_count": 36,
   "metadata": {},
   "outputs": [
    {
     "data": {
      "text/plain": [
       "'model2.pkl'"
      ]
     },
     "execution_count": 36,
     "metadata": {},
     "output_type": "execute_result"
    }
   ],
   "source": [
    "train(dataset, export_path='model2.pkl')"
   ]
  },
  {
   "cell_type": "code",
   "execution_count": 37,
   "metadata": {},
   "outputs": [
    {
     "data": {
      "text/plain": [
       "{'closing': 0,\n",
       " 'contact': 0,\n",
       " 'customer_support': 0,\n",
       " 'feedback': 0,\n",
       " 'food': 0,\n",
       " 'hours': 0,\n",
       " 'inventory': 0,\n",
       " 'menu': 0,\n",
       " 'opening': 0,\n",
       " 'products': 0}"
      ]
     },
     "execution_count": 37,
     "metadata": {},
     "output_type": "execute_result"
    }
   ],
   "source": [
    "model_loaded_data = {}\n",
    "\n",
    "with open(\"model2.pkl\", 'rb') as f:\n",
    "    model_loaded_data = pickle.loads(f.read())\n",
    "    \n",
    "label_predictor_from_export(\"What is your favorite menu item?\", **model_loaded_data)"
   ]
  },
  {
   "cell_type": "markdown",
   "metadata": {},
   "source": [
    "### Store Dataset with Pandas"
   ]
  },
  {
   "cell_type": "code",
   "execution_count": 45,
   "metadata": {},
   "outputs": [
    {
     "name": "stdout",
     "output_type": "stream",
     "text": [
      "Collecting pandas\n",
      "  Using cached pandas-1.0.5-cp38-cp38-macosx_10_9_x86_64.whl (10.2 MB)\n",
      "Requirement already satisfied: pytz>=2017.2 in /Users/cfe/.local/share/virtualenvs/ml-hello-world-rt2goiiz/lib/python3.8/site-packages (from pandas) (2020.1)\n",
      "Requirement already satisfied: python-dateutil>=2.6.1 in /Users/cfe/.local/share/virtualenvs/ml-hello-world-rt2goiiz/lib/python3.8/site-packages (from pandas) (2.8.1)\n",
      "Requirement already satisfied: numpy>=1.13.3 in /Users/cfe/.local/share/virtualenvs/ml-hello-world-rt2goiiz/lib/python3.8/site-packages (from pandas) (1.19.1)\n",
      "Requirement already satisfied: six>=1.5 in /Users/cfe/.local/share/virtualenvs/ml-hello-world-rt2goiiz/lib/python3.8/site-packages (from python-dateutil>=2.6.1->pandas) (1.15.0)\n",
      "Installing collected packages: pandas\n",
      "Successfully installed pandas-1.0.5\n"
     ]
    }
   ],
   "source": [
    "!pip install pandas"
   ]
  },
  {
   "cell_type": "code",
   "execution_count": 46,
   "metadata": {},
   "outputs": [],
   "source": [
    "import pandas as pd"
   ]
  },
  {
   "cell_type": "code",
   "execution_count": 47,
   "metadata": {},
   "outputs": [
    {
     "data": {
      "text/html": [
       "<div>\n",
       "<style scoped>\n",
       "    .dataframe tbody tr th:only-of-type {\n",
       "        vertical-align: middle;\n",
       "    }\n",
       "\n",
       "    .dataframe tbody tr th {\n",
       "        vertical-align: top;\n",
       "    }\n",
       "\n",
       "    .dataframe thead th {\n",
       "        text-align: right;\n",
       "    }\n",
       "</style>\n",
       "<table border=\"1\" class=\"dataframe\">\n",
       "  <thead>\n",
       "    <tr style=\"text-align: right;\">\n",
       "      <th></th>\n",
       "      <th>customer</th>\n",
       "      <th>tags</th>\n",
       "    </tr>\n",
       "  </thead>\n",
       "  <tbody>\n",
       "    <tr>\n",
       "      <th>0</th>\n",
       "      <td>Hi there, what time do you open tomorrow for l...</td>\n",
       "      <td>[opening, closing, hours]</td>\n",
       "    </tr>\n",
       "    <tr>\n",
       "      <th>1</th>\n",
       "      <td>Can I speak to your manager?</td>\n",
       "      <td>[customer_support]</td>\n",
       "    </tr>\n",
       "    <tr>\n",
       "      <th>2</th>\n",
       "      <td>The food was amazing thank you!</td>\n",
       "      <td>[customer_support, feedback]</td>\n",
       "    </tr>\n",
       "    <tr>\n",
       "      <th>3</th>\n",
       "      <td>What type of products do you have?</td>\n",
       "      <td>[products, menu, inventory, food]</td>\n",
       "    </tr>\n",
       "    <tr>\n",
       "      <th>4</th>\n",
       "      <td>How late is your kitchen open?</td>\n",
       "      <td>[opening, hours, closing]</td>\n",
       "    </tr>\n",
       "    <tr>\n",
       "      <th>5</th>\n",
       "      <td>My order was prepared incorrectly, how can I g...</td>\n",
       "      <td>[customer_support]</td>\n",
       "    </tr>\n",
       "    <tr>\n",
       "      <th>6</th>\n",
       "      <td>What kind of meats do you have?</td>\n",
       "      <td>[menu, products, inventory, food]</td>\n",
       "    </tr>\n",
       "    <tr>\n",
       "      <th>7</th>\n",
       "      <td>When does your dining room open?</td>\n",
       "      <td>[opening, hours]</td>\n",
       "    </tr>\n",
       "    <tr>\n",
       "      <th>8</th>\n",
       "      <td>When do you open for dinner?</td>\n",
       "      <td>[opening, hours, closing]</td>\n",
       "    </tr>\n",
       "    <tr>\n",
       "      <th>9</th>\n",
       "      <td>How do I contact you?</td>\n",
       "      <td>[contact, customer_support]</td>\n",
       "    </tr>\n",
       "  </tbody>\n",
       "</table>\n",
       "</div>"
      ],
      "text/plain": [
       "                                            customer  \\\n",
       "0  Hi there, what time do you open tomorrow for l...   \n",
       "1                       Can I speak to your manager?   \n",
       "2                    The food was amazing thank you!   \n",
       "3                 What type of products do you have?   \n",
       "4                     How late is your kitchen open?   \n",
       "5  My order was prepared incorrectly, how can I g...   \n",
       "6                    What kind of meats do you have?   \n",
       "7                   When does your dining room open?   \n",
       "8                       When do you open for dinner?   \n",
       "9                              How do I contact you?   \n",
       "\n",
       "                                tags  \n",
       "0          [opening, closing, hours]  \n",
       "1                 [customer_support]  \n",
       "2       [customer_support, feedback]  \n",
       "3  [products, menu, inventory, food]  \n",
       "4          [opening, hours, closing]  \n",
       "5                 [customer_support]  \n",
       "6  [menu, products, inventory, food]  \n",
       "7                   [opening, hours]  \n",
       "8          [opening, hours, closing]  \n",
       "9        [contact, customer_support]  "
      ]
     },
     "execution_count": 47,
     "metadata": {},
     "output_type": "execute_result"
    }
   ],
   "source": [
    "df = pd.DataFrame(dataset)\n",
    "df.head(n=100)"
   ]
  },
  {
   "cell_type": "code",
   "execution_count": 52,
   "metadata": {},
   "outputs": [],
   "source": [
    "df.to_pickle(\"dataset.pkl\")"
   ]
  },
  {
   "cell_type": "code",
   "execution_count": 61,
   "metadata": {},
   "outputs": [],
   "source": [
    "# df = pd.read_pickle(\"dataset.pkl\")\n",
    "# og_df.head()"
   ]
  },
  {
   "cell_type": "code",
   "execution_count": 62,
   "metadata": {},
   "outputs": [],
   "source": [
    "# og_df.iloc[0]['tags'][0]"
   ]
  },
  {
   "cell_type": "code",
   "execution_count": 63,
   "metadata": {},
   "outputs": [],
   "source": [
    "new_dataset = df.to_dict(\"records\")\n",
    "# print(new_dataset)"
   ]
  },
  {
   "cell_type": "markdown",
   "metadata": {},
   "source": [
    "### Adding to the Dataset"
   ]
  },
  {
   "cell_type": "code",
   "execution_count": 72,
   "metadata": {},
   "outputs": [],
   "source": [
    "# df = df.append({\"customer\": \"Who is the manager?\", \"tags\": [\"customer_support\"]}, ignore_index=True)"
   ]
  },
  {
   "cell_type": "code",
   "execution_count": 73,
   "metadata": {},
   "outputs": [
    {
     "data": {
      "text/html": [
       "<div>\n",
       "<style scoped>\n",
       "    .dataframe tbody tr th:only-of-type {\n",
       "        vertical-align: middle;\n",
       "    }\n",
       "\n",
       "    .dataframe tbody tr th {\n",
       "        vertical-align: top;\n",
       "    }\n",
       "\n",
       "    .dataframe thead th {\n",
       "        text-align: right;\n",
       "    }\n",
       "</style>\n",
       "<table border=\"1\" class=\"dataframe\">\n",
       "  <thead>\n",
       "    <tr style=\"text-align: right;\">\n",
       "      <th></th>\n",
       "      <th>customer</th>\n",
       "      <th>tags</th>\n",
       "    </tr>\n",
       "  </thead>\n",
       "  <tbody>\n",
       "    <tr>\n",
       "      <th>0</th>\n",
       "      <td>Hi there, what time do you open tomorrow for l...</td>\n",
       "      <td>[opening, closing, hours]</td>\n",
       "    </tr>\n",
       "    <tr>\n",
       "      <th>1</th>\n",
       "      <td>Can I speak to your manager?</td>\n",
       "      <td>[customer_support]</td>\n",
       "    </tr>\n",
       "    <tr>\n",
       "      <th>2</th>\n",
       "      <td>The food was amazing thank you!</td>\n",
       "      <td>[customer_support, feedback]</td>\n",
       "    </tr>\n",
       "    <tr>\n",
       "      <th>3</th>\n",
       "      <td>What type of products do you have?</td>\n",
       "      <td>[products, menu, inventory, food]</td>\n",
       "    </tr>\n",
       "    <tr>\n",
       "      <th>4</th>\n",
       "      <td>How late is your kitchen open?</td>\n",
       "      <td>[opening, hours, closing]</td>\n",
       "    </tr>\n",
       "    <tr>\n",
       "      <th>5</th>\n",
       "      <td>My order was prepared incorrectly, how can I g...</td>\n",
       "      <td>[customer_support]</td>\n",
       "    </tr>\n",
       "    <tr>\n",
       "      <th>6</th>\n",
       "      <td>What kind of meats do you have?</td>\n",
       "      <td>[menu, products, inventory, food]</td>\n",
       "    </tr>\n",
       "    <tr>\n",
       "      <th>7</th>\n",
       "      <td>When does your dining room open?</td>\n",
       "      <td>[opening, hours]</td>\n",
       "    </tr>\n",
       "    <tr>\n",
       "      <th>8</th>\n",
       "      <td>When do you open for dinner?</td>\n",
       "      <td>[opening, hours, closing]</td>\n",
       "    </tr>\n",
       "    <tr>\n",
       "      <th>9</th>\n",
       "      <td>How do I contact you?</td>\n",
       "      <td>[contact, customer_support]</td>\n",
       "    </tr>\n",
       "    <tr>\n",
       "      <th>10</th>\n",
       "      <td>Who is the manager?</td>\n",
       "      <td>[customer_support]</td>\n",
       "    </tr>\n",
       "  </tbody>\n",
       "</table>\n",
       "</div>"
      ],
      "text/plain": [
       "                                             customer  \\\n",
       "0   Hi there, what time do you open tomorrow for l...   \n",
       "1                        Can I speak to your manager?   \n",
       "2                     The food was amazing thank you!   \n",
       "3                  What type of products do you have?   \n",
       "4                      How late is your kitchen open?   \n",
       "5   My order was prepared incorrectly, how can I g...   \n",
       "6                     What kind of meats do you have?   \n",
       "7                    When does your dining room open?   \n",
       "8                        When do you open for dinner?   \n",
       "9                               How do I contact you?   \n",
       "10                                Who is the manager?   \n",
       "\n",
       "                                 tags  \n",
       "0           [opening, closing, hours]  \n",
       "1                  [customer_support]  \n",
       "2        [customer_support, feedback]  \n",
       "3   [products, menu, inventory, food]  \n",
       "4           [opening, hours, closing]  \n",
       "5                  [customer_support]  \n",
       "6   [menu, products, inventory, food]  \n",
       "7                    [opening, hours]  \n",
       "8           [opening, hours, closing]  \n",
       "9         [contact, customer_support]  \n",
       "10                 [customer_support]  "
      ]
     },
     "execution_count": 73,
     "metadata": {},
     "output_type": "execute_result"
    }
   ],
   "source": [
    "# df.head(n=100)"
   ]
  },
  {
   "cell_type": "code",
   "execution_count": 78,
   "metadata": {},
   "outputs": [],
   "source": [
    "def append_to_df(df):\n",
    "    df = df.copy()\n",
    "    while True:\n",
    "        customer_input = input(\"What is the question?\\n\")\n",
    "        tags_input = input(\"Tags? Use commas to separate\\n\")\n",
    "        if tags_input != None:\n",
    "            tags_input = tags_input.split(\",\")\n",
    "            if not isinstance(tags_input, list):\n",
    "                tags_input = [tags_input]\n",
    "        if customer_input != None and tags_input != None:\n",
    "            df = df.append({\"customer\": customer_input, \"tags\": tags_input}, ignore_index=True)\n",
    "        tag_another = input(\"Tag another? Type (y) to continue or any other key to exit.\")\n",
    "        if tag_another.lower() == \"y\":\n",
    "            continue\n",
    "        break\n",
    "    return df"
   ]
  },
  {
   "cell_type": "code",
   "execution_count": 79,
   "metadata": {},
   "outputs": [
    {
     "name": "stdout",
     "output_type": "stream",
     "text": [
      "What is the question?\n",
      "When does the pizza oven turn off?\n",
      "Tags? Use commas to separate\n",
      "food, menu, hours\n",
      "Tag another? Type (y) to continue or any other key to exit.y\n",
      "What is the question?\n",
      "How do I contact you?\n",
      "Tags? Use commas to separate\n",
      "contact, customer_support\n",
      "Tag another? Type (y) to continue or any other key to exit.n\n"
     ]
    }
   ],
   "source": [
    "new_df = append_to_df(df)"
   ]
  },
  {
   "cell_type": "code",
   "execution_count": 80,
   "metadata": {},
   "outputs": [
    {
     "data": {
      "text/html": [
       "<div>\n",
       "<style scoped>\n",
       "    .dataframe tbody tr th:only-of-type {\n",
       "        vertical-align: middle;\n",
       "    }\n",
       "\n",
       "    .dataframe tbody tr th {\n",
       "        vertical-align: top;\n",
       "    }\n",
       "\n",
       "    .dataframe thead th {\n",
       "        text-align: right;\n",
       "    }\n",
       "</style>\n",
       "<table border=\"1\" class=\"dataframe\">\n",
       "  <thead>\n",
       "    <tr style=\"text-align: right;\">\n",
       "      <th></th>\n",
       "      <th>customer</th>\n",
       "      <th>tags</th>\n",
       "    </tr>\n",
       "  </thead>\n",
       "  <tbody>\n",
       "    <tr>\n",
       "      <th>0</th>\n",
       "      <td>Hi there, what time do you open tomorrow for l...</td>\n",
       "      <td>[opening, closing, hours]</td>\n",
       "    </tr>\n",
       "    <tr>\n",
       "      <th>1</th>\n",
       "      <td>Can I speak to your manager?</td>\n",
       "      <td>[customer_support]</td>\n",
       "    </tr>\n",
       "    <tr>\n",
       "      <th>2</th>\n",
       "      <td>The food was amazing thank you!</td>\n",
       "      <td>[customer_support, feedback]</td>\n",
       "    </tr>\n",
       "    <tr>\n",
       "      <th>3</th>\n",
       "      <td>What type of products do you have?</td>\n",
       "      <td>[products, menu, inventory, food]</td>\n",
       "    </tr>\n",
       "    <tr>\n",
       "      <th>4</th>\n",
       "      <td>How late is your kitchen open?</td>\n",
       "      <td>[opening, hours, closing]</td>\n",
       "    </tr>\n",
       "    <tr>\n",
       "      <th>5</th>\n",
       "      <td>My order was prepared incorrectly, how can I g...</td>\n",
       "      <td>[customer_support]</td>\n",
       "    </tr>\n",
       "    <tr>\n",
       "      <th>6</th>\n",
       "      <td>What kind of meats do you have?</td>\n",
       "      <td>[menu, products, inventory, food]</td>\n",
       "    </tr>\n",
       "    <tr>\n",
       "      <th>7</th>\n",
       "      <td>When does your dining room open?</td>\n",
       "      <td>[opening, hours]</td>\n",
       "    </tr>\n",
       "    <tr>\n",
       "      <th>8</th>\n",
       "      <td>When do you open for dinner?</td>\n",
       "      <td>[opening, hours, closing]</td>\n",
       "    </tr>\n",
       "    <tr>\n",
       "      <th>9</th>\n",
       "      <td>How do I contact you?</td>\n",
       "      <td>[contact, customer_support]</td>\n",
       "    </tr>\n",
       "    <tr>\n",
       "      <th>10</th>\n",
       "      <td>Who is the manager?</td>\n",
       "      <td>[customer_support]</td>\n",
       "    </tr>\n",
       "    <tr>\n",
       "      <th>11</th>\n",
       "      <td>When does the pizza oven turn off?</td>\n",
       "      <td>[food,  menu,  hours]</td>\n",
       "    </tr>\n",
       "    <tr>\n",
       "      <th>12</th>\n",
       "      <td>How do I contact you?</td>\n",
       "      <td>[contact,  customer_support]</td>\n",
       "    </tr>\n",
       "  </tbody>\n",
       "</table>\n",
       "</div>"
      ],
      "text/plain": [
       "                                             customer  \\\n",
       "0   Hi there, what time do you open tomorrow for l...   \n",
       "1                        Can I speak to your manager?   \n",
       "2                     The food was amazing thank you!   \n",
       "3                  What type of products do you have?   \n",
       "4                      How late is your kitchen open?   \n",
       "5   My order was prepared incorrectly, how can I g...   \n",
       "6                     What kind of meats do you have?   \n",
       "7                    When does your dining room open?   \n",
       "8                        When do you open for dinner?   \n",
       "9                               How do I contact you?   \n",
       "10                                Who is the manager?   \n",
       "11                 When does the pizza oven turn off?   \n",
       "12                              How do I contact you?   \n",
       "\n",
       "                                 tags  \n",
       "0           [opening, closing, hours]  \n",
       "1                  [customer_support]  \n",
       "2        [customer_support, feedback]  \n",
       "3   [products, menu, inventory, food]  \n",
       "4           [opening, hours, closing]  \n",
       "5                  [customer_support]  \n",
       "6   [menu, products, inventory, food]  \n",
       "7                    [opening, hours]  \n",
       "8           [opening, hours, closing]  \n",
       "9         [contact, customer_support]  \n",
       "10                 [customer_support]  \n",
       "11              [food,  menu,  hours]  \n",
       "12       [contact,  customer_support]  "
      ]
     },
     "execution_count": 80,
     "metadata": {},
     "output_type": "execute_result"
    }
   ],
   "source": [
    "new_df.head(n=100)"
   ]
  },
  {
   "cell_type": "code",
   "execution_count": 81,
   "metadata": {},
   "outputs": [],
   "source": [
    "new_df.to_pickle(\"dataset.pkl\")"
   ]
  },
  {
   "cell_type": "markdown",
   "metadata": {},
   "source": [
    "### Creating a Rest API Model Service\n",
    "Using [fastapi](https://fastapi.tiangolo.com/)"
   ]
  },
  {
   "cell_type": "code",
   "execution_count": 96,
   "metadata": {},
   "outputs": [
    {
     "name": "stdout",
     "output_type": "stream",
     "text": [
      "Collecting fastapi\n",
      "  Using cached fastapi-0.60.0-py3-none-any.whl (49 kB)\n",
      "Collecting uvicorn\n",
      "  Using cached uvicorn-0.11.6-py3-none-any.whl (43 kB)\n",
      "Collecting requests\n",
      "  Using cached requests-2.24.0-py2.py3-none-any.whl (61 kB)\n",
      "Requirement already satisfied: pydantic<2.0.0,>=0.32.2 in /Users/cfe/.local/share/virtualenvs/ml-hello-world-rt2goiiz/lib/python3.8/site-packages (from fastapi) (1.6.1)\n",
      "Requirement already satisfied: starlette==0.13.4 in /Users/cfe/.local/share/virtualenvs/ml-hello-world-rt2goiiz/lib/python3.8/site-packages (from fastapi) (0.13.4)\n",
      "Requirement already satisfied: uvloop>=0.14.0; sys_platform != \"win32\" and sys_platform != \"cygwin\" and platform_python_implementation != \"PyPy\" in /Users/cfe/.local/share/virtualenvs/ml-hello-world-rt2goiiz/lib/python3.8/site-packages (from uvicorn) (0.14.0)\n",
      "Requirement already satisfied: h11<0.10,>=0.8 in /Users/cfe/.local/share/virtualenvs/ml-hello-world-rt2goiiz/lib/python3.8/site-packages (from uvicorn) (0.9.0)\n",
      "Requirement already satisfied: httptools==0.1.*; sys_platform != \"win32\" and sys_platform != \"cygwin\" and platform_python_implementation != \"PyPy\" in /Users/cfe/.local/share/virtualenvs/ml-hello-world-rt2goiiz/lib/python3.8/site-packages (from uvicorn) (0.1.1)\n",
      "Requirement already satisfied: click==7.* in /Users/cfe/.local/share/virtualenvs/ml-hello-world-rt2goiiz/lib/python3.8/site-packages (from uvicorn) (7.1.2)\n",
      "Requirement already satisfied: websockets==8.* in /Users/cfe/.local/share/virtualenvs/ml-hello-world-rt2goiiz/lib/python3.8/site-packages (from uvicorn) (8.1)\n",
      "Collecting certifi>=2017.4.17\n",
      "  Using cached certifi-2020.6.20-py2.py3-none-any.whl (156 kB)\n",
      "Collecting idna<3,>=2.5\n",
      "  Using cached idna-2.10-py2.py3-none-any.whl (58 kB)\n",
      "Collecting urllib3!=1.25.0,!=1.25.1,<1.26,>=1.21.1\n",
      "  Using cached urllib3-1.25.9-py2.py3-none-any.whl (126 kB)\n",
      "Collecting chardet<4,>=3.0.2\n",
      "  Using cached chardet-3.0.4-py2.py3-none-any.whl (133 kB)\n",
      "Installing collected packages: fastapi, uvicorn, certifi, idna, urllib3, chardet, requests\n",
      "Successfully installed certifi-2020.6.20 chardet-3.0.4 fastapi-0.60.0 idna-2.10 requests-2.24.0 urllib3-1.25.9 uvicorn-0.11.6\n"
     ]
    }
   ],
   "source": [
    "!pip install fastapi uvicorn requests"
   ]
  },
  {
   "cell_type": "code",
   "execution_count": 97,
   "metadata": {},
   "outputs": [],
   "source": [
    "API_APP_PATH = 'app.py' # pathlib, os.path"
   ]
  },
  {
   "cell_type": "code",
   "execution_count": null,
   "metadata": {},
   "outputs": [],
   "source": [
    "# from fastapi import FastAPI\n",
    "\n",
    "# app = FastAPI()\n",
    "\n",
    "# @app.get(\"/\")\n",
    "# def homepage_view():\n",
    "#     return {\"Hello\": \"World\"}"
   ]
  },
  {
   "cell_type": "code",
   "execution_count": 121,
   "metadata": {},
   "outputs": [
    {
     "name": "stdout",
     "output_type": "stream",
     "text": [
      "Overwriting app.py\n"
     ]
    }
   ],
   "source": [
    "%%writefile $API_APP_PATH\n",
    "\n",
    "import pickle\n",
    "from fastapi import FastAPI\n",
    "from pydantic import BaseModel\n",
    "\n",
    "app = FastAPI()\n",
    "\n",
    "model_data = {}\n",
    "\n",
    "with open(\"model.pkl\", 'rb') as f:\n",
    "    model_data = pickle.loads(f.read())\n",
    "\n",
    "    \n",
    "class CustomerInput(BaseModel):\n",
    "    query:str\n",
    "\n",
    "def predict(txt='Hello world', \n",
    "                vectorizer=None, \n",
    "                model=None, \n",
    "                classes=[], \n",
    "                *args, \n",
    "                **kwargs):\n",
    "    # pred\n",
    "    assert(vectorizer!=None)\n",
    "    assert(model != None)\n",
    "    input_vector = vectorizer.transform([txt])\n",
    "    output_vector = model.predict(input_vector)\n",
    "    assert(len(output_vector[0]) == len(classes))\n",
    "    preds = {}\n",
    "    for i, val in enumerate(output_vector[0]):\n",
    "        preds[classes[i]] = int(val)\n",
    "    return preds\n",
    "\n",
    "@app.post(\"/predict\")\n",
    "def predict_view(customer_input:CustomerInput):\n",
    "    # storing this query data -> SQL database\n",
    "    my_pred = predict(customer_input.query, **model_data)\n",
    "    return {\"query\": customer_input.query, \"predictions\": my_pred}\n",
    "\n",
    "# @app.post('/train')"
   ]
  },
  {
   "cell_type": "code",
   "execution_count": 125,
   "metadata": {},
   "outputs": [
    {
     "name": "stdout",
     "output_type": "stream",
     "text": [
      "{'query': 'When do you open?', 'predictions': {'closing': 0, 'contact': 0, 'customer_support': 0, 'feedback': 0, 'food': 0, 'hours': 1, 'inventory': 0, 'menu': 0, 'opening': 1, 'products': 0}}\n"
     ]
    }
   ],
   "source": [
    "import requests\n",
    "\n",
    "json = {\n",
    "    \"query\": \"When do you open?\"\n",
    "}\n",
    "\n",
    "r = requests.post(\"http://127.0.0.1:8000/predict\", json=json)\n",
    "print(r.json())"
   ]
  },
  {
   "cell_type": "code",
   "execution_count": 109,
   "metadata": {},
   "outputs": [],
   "source": [
    "# label_predictor_from_export(\"When does your kitchen close?\", **model_loaded_data)"
   ]
  },
  {
   "cell_type": "code",
   "execution_count": null,
   "metadata": {},
   "outputs": [],
   "source": []
  }
 ],
 "metadata": {
  "kernelspec": {
   "display_name": "Python 3",
   "language": "python",
   "name": "python3"
  },
  "language_info": {
   "codemirror_mode": {
    "name": "ipython",
    "version": 3
   },
   "file_extension": ".py",
   "mimetype": "text/x-python",
   "name": "python",
   "nbconvert_exporter": "python",
   "pygments_lexer": "ipython3",
   "version": "3.8.2"
  }
 },
 "nbformat": 4,
 "nbformat_minor": 4
}
