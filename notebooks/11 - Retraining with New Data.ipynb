{
 "cells": [
  {
   "cell_type": "markdown",
   "metadata": {},
   "source": [
    "__Scenario 1__\n",
    "\n",
    "Bill: `Hi there, what time do you open tomorrow for lunch?`\n",
    "\n",
    "Bot: `Our hours are 9am-10pm everday.`\n",
    "\n",
    "__Scenario 2__\n",
    "\n",
    "Karen: `Can I speak to your manager?`\n",
    "\n",
    "Bot: `You can contact our customer support at 555-555-555.5`\n",
    "\n",
    "\n",
    "__Scenario 3__\n",
    "\n",
    "Wade: `What type of products do you have?`\n",
    "\n",
    "Bot: `We carry various food items including tacos, nachos, burritos, and salads.`"
   ]
  },
  {
   "cell_type": "code",
   "execution_count": 1,
   "metadata": {},
   "outputs": [],
   "source": [
    "conversations = [\n",
    "    {\n",
    "        \"customer\": \"Hi there, what time do you open tomorrow for lunch?\",\n",
    "        \"response\": \"Our hours are 9am-10pm everday.\"\n",
    "    },\n",
    "     {\n",
    "        \"customer\": \"Can I speak to your manager?\",\n",
    "        \"response\": \"You can contact our customer support at 555-555-5555.\"\n",
    "    },\n",
    "     {\n",
    "        \"customer\": \"What type of products do you have?\",\n",
    "        \"response\": \"We carry various food items including tacos, nachos, burritos, and salads.\"\n",
    "    }  \n",
    "    \n",
    "]"
   ]
  },
  {
   "cell_type": "code",
   "execution_count": 2,
   "metadata": {},
   "outputs": [],
   "source": [
    "# while True:\n",
    "#     my_input = input(\"What is your question?\\n\")\n",
    "#     response = None\n",
    "#     for convo in conversations:\n",
    "#         if convo['customer'] == my_input:\n",
    "#             response = convo['response']\n",
    "#     if response != None:\n",
    "#         print(response)\n",
    "#         break\n",
    "#     print(\"I don't know\")\n",
    "#     continue"
   ]
  },
  {
   "cell_type": "code",
   "execution_count": 3,
   "metadata": {},
   "outputs": [],
   "source": [
    "convos_one = [\n",
    "    {\n",
    "        \"customer\": \"Hi there, what time do you open tomorrow for lunch?\",\n",
    "        \"tags\": [\"opening\", \"closing\", \"hours\"],\n",
    "    },\n",
    "     {\n",
    "        \"customer\": \"Can I speak to your manager?\",\n",
    "        \"tags\": [\"customer_support\"],\n",
    "    },\n",
    "    {\n",
    "        \"customer\": \"The food was amazing thank you!\",\n",
    "        \"tags\": [\"customer_support\", \"feedback\"],\n",
    "    },\n",
    "     {\n",
    "      \"customer\": \"What type of products do you have?\",\n",
    "       \"tags\": [\"products\", \"menu\", \"inventory\", \"food\"],\n",
    "    }  \n",
    "    \n",
    "]"
   ]
  },
  {
   "cell_type": "code",
   "execution_count": 4,
   "metadata": {},
   "outputs": [],
   "source": [
    "convos_two = [\n",
    "    {\n",
    "        \"customer\": \"How late is your kitchen open?\",\n",
    "        \"tags\": [\"opening\", \"hours\", \"closing\"],\n",
    "    },\n",
    "     {\n",
    "        \"customer\": \"My order was prepared incorrectly, how can I get this fixed?\",\n",
    "        \"tags\": [\"customer_support\"],\n",
    "    },\n",
    "    {\n",
    "        \"customer\": \"What kind of meats do you have?\",\n",
    "        \"tags\": [\"menu\", \"products\", \"inventory\", \"food\"],\n",
    "    }\n",
    "]"
   ]
  },
  {
   "cell_type": "code",
   "execution_count": 5,
   "metadata": {},
   "outputs": [],
   "source": [
    "convos_three = [\n",
    "    {\n",
    "        \"customer\": \"When does your dining room open?\",\n",
    "        \"tags\": ['opening', 'hours'],\n",
    "    },\n",
    "     {\n",
    "        \"customer\": \"When do you open for dinner?\",\n",
    "        \"tags\": ['opening', 'hours', \"closing\"],\n",
    "    },\n",
    "    {\n",
    "        \"customer\": \"How do I contact you?\",\n",
    "        \"tags\": [\"contact\", \"customer_support\"]\n",
    "    }\n",
    "]"
   ]
  },
  {
   "cell_type": "code",
   "execution_count": 6,
   "metadata": {},
   "outputs": [
    {
     "data": {
      "text/plain": [
       "[{'customer': 'Hi there, what time do you open tomorrow for lunch?',\n",
       "  'tags': ['opening', 'closing', 'hours']},\n",
       " {'customer': 'Can I speak to your manager?', 'tags': ['customer_support']},\n",
       " {'customer': 'The food was amazing thank you!',\n",
       "  'tags': ['customer_support', 'feedback']},\n",
       " {'customer': 'What type of products do you have?',\n",
       "  'tags': ['products', 'menu', 'inventory', 'food']},\n",
       " {'customer': 'How late is your kitchen open?',\n",
       "  'tags': ['opening', 'hours', 'closing']},\n",
       " {'customer': 'My order was prepared incorrectly, how can I get this fixed?',\n",
       "  'tags': ['customer_support']},\n",
       " {'customer': 'What kind of meats do you have?',\n",
       "  'tags': ['menu', 'products', 'inventory', 'food']},\n",
       " {'customer': 'When does your dining room open?',\n",
       "  'tags': ['opening', 'hours']},\n",
       " {'customer': 'When do you open for dinner?',\n",
       "  'tags': ['opening', 'hours', 'closing']},\n",
       " {'customer': 'How do I contact you?',\n",
       "  'tags': ['contact', 'customer_support']}]"
      ]
     },
     "execution_count": 6,
     "metadata": {},
     "output_type": "execute_result"
    }
   ],
   "source": [
    "dataset = convos_one + convos_two + convos_three\n",
    "dataset"
   ]
  },
  {
   "cell_type": "code",
   "execution_count": 7,
   "metadata": {},
   "outputs": [
    {
     "name": "stdout",
     "output_type": "stream",
     "text": [
      "['Hi there, what time do you open tomorrow for lunch?', 'Can I speak to your manager?', 'The food was amazing thank you!', 'What type of products do you have?', 'How late is your kitchen open?', 'My order was prepared incorrectly, how can I get this fixed?', 'What kind of meats do you have?', 'When does your dining room open?', 'When do you open for dinner?', 'How do I contact you?']\n"
     ]
    }
   ],
   "source": [
    "inputs = [x['customer'] for x in dataset]\n",
    "print(inputs)"
   ]
  },
  {
   "cell_type": "code",
   "execution_count": 8,
   "metadata": {},
   "outputs": [
    {
     "name": "stdout",
     "output_type": "stream",
     "text": [
      "[['opening', 'closing', 'hours'], ['customer_support'], ['customer_support', 'feedback'], ['products', 'menu', 'inventory', 'food'], ['opening', 'hours', 'closing'], ['customer_support'], ['menu', 'products', 'inventory', 'food'], ['opening', 'hours'], ['opening', 'hours', 'closing'], ['contact', 'customer_support']]\n"
     ]
    }
   ],
   "source": [
    "outputs = [x['tags'] for x in dataset]\n",
    "print(outputs)"
   ]
  },
  {
   "cell_type": "code",
   "execution_count": 9,
   "metadata": {},
   "outputs": [],
   "source": [
    "assert(len(inputs) == len(outputs))"
   ]
  },
  {
   "cell_type": "code",
   "execution_count": 10,
   "metadata": {},
   "outputs": [
    {
     "name": "stdout",
     "output_type": "stream",
     "text": [
      "How late is your kitchen open? ['opening', 'hours', 'closing']\n",
      "{'customer': 'How late is your kitchen open?', 'tags': ['opening', 'hours', 'closing']}\n"
     ]
    }
   ],
   "source": [
    "idx = 4\n",
    "print(inputs[idx], outputs[idx])\n",
    "print(dataset[idx])"
   ]
  },
  {
   "cell_type": "markdown",
   "metadata": {},
   "source": [
    "- `customer`: These values are really the `input` values for our ML project. Input values are sometimes called `source`, `feature`, `training`, `X`, `X_train`/`X_test`/`X_valid`, and a few others.\n",
    "- `tags`: These values are really the `output` values for our ML project. Output values are sometimes called `target`, `labels`, `y`, `y_train`/`y_test`/`y_valid`, `classes`/`class`, and a few others."
   ]
  },
  {
   "cell_type": "code",
   "execution_count": 11,
   "metadata": {},
   "outputs": [],
   "source": [
    "def my_pred_function(inputs):\n",
    "    # pred\n",
    "    outputs = inputs * 0.39013 # \n",
    "    return outputs"
   ]
  },
  {
   "cell_type": "code",
   "execution_count": 12,
   "metadata": {},
   "outputs": [
    {
     "name": "stdout",
     "output_type": "stream",
     "text": [
      "Requirement already satisfied: scikit-learn in /Users/cfe/.local/share/virtualenvs/ml-hello-world-rt2goiiz/lib/python3.8/site-packages (0.23.1)\r\n",
      "Requirement already satisfied: numpy>=1.13.3 in /Users/cfe/.local/share/virtualenvs/ml-hello-world-rt2goiiz/lib/python3.8/site-packages (from scikit-learn) (1.19.1)\r\n",
      "Requirement already satisfied: threadpoolctl>=2.0.0 in /Users/cfe/.local/share/virtualenvs/ml-hello-world-rt2goiiz/lib/python3.8/site-packages (from scikit-learn) (2.1.0)\r\n",
      "Requirement already satisfied: joblib>=0.11 in /Users/cfe/.local/share/virtualenvs/ml-hello-world-rt2goiiz/lib/python3.8/site-packages (from scikit-learn) (0.16.0)\r\n",
      "Requirement already satisfied: scipy>=0.19.1 in /Users/cfe/.local/share/virtualenvs/ml-hello-world-rt2goiiz/lib/python3.8/site-packages (from scikit-learn) (1.5.1)\r\n"
     ]
    }
   ],
   "source": [
    "!pip install scikit-learn"
   ]
  },
  {
   "cell_type": "code",
   "execution_count": 13,
   "metadata": {},
   "outputs": [],
   "source": [
    "from sklearn.feature_extraction.text import CountVectorizer\n",
    "\n",
    "vectorizer = CountVectorizer()\n",
    "\n",
    "X = vectorizer.fit_transform(inputs)"
   ]
  },
  {
   "cell_type": "code",
   "execution_count": 14,
   "metadata": {},
   "outputs": [
    {
     "data": {
      "text/plain": [
       "(10, 43)"
      ]
     },
     "execution_count": 14,
     "metadata": {},
     "output_type": "execute_result"
    }
   ],
   "source": [
    "X.shape"
   ]
  },
  {
   "cell_type": "code",
   "execution_count": 15,
   "metadata": {},
   "outputs": [
    {
     "name": "stdout",
     "output_type": "stream",
     "text": [
      "['amazing', 'can', 'contact', 'dining', 'dinner', 'do', 'does', 'fixed', 'food', 'for', 'get', 'have', 'hi', 'how', 'incorrectly', 'is', 'kind', 'kitchen', 'late', 'lunch', 'manager', 'meats', 'my', 'of', 'open', 'order', 'prepared', 'products', 'room', 'speak', 'thank', 'the', 'there', 'this', 'time', 'to', 'tomorrow', 'type', 'was', 'what', 'when', 'you', 'your']\n"
     ]
    }
   ],
   "source": [
    "words = vectorizer.get_feature_names()\n",
    "print(words)"
   ]
  },
  {
   "cell_type": "code",
   "execution_count": 16,
   "metadata": {},
   "outputs": [
    {
     "data": {
      "text/plain": [
       "43"
      ]
     },
     "execution_count": 16,
     "metadata": {},
     "output_type": "execute_result"
    }
   ],
   "source": [
    "len(words)"
   ]
  },
  {
   "cell_type": "code",
   "execution_count": 17,
   "metadata": {},
   "outputs": [],
   "source": [
    "from sklearn.preprocessing import MultiLabelBinarizer\n",
    "\n",
    "mlb = MultiLabelBinarizer()\n",
    "\n",
    "y = mlb.fit_transform(outputs)"
   ]
  },
  {
   "cell_type": "code",
   "execution_count": 18,
   "metadata": {},
   "outputs": [
    {
     "data": {
      "text/plain": [
       "array(['closing', 'contact', 'customer_support', 'feedback', 'food',\n",
       "       'hours', 'inventory', 'menu', 'opening', 'products'], dtype=object)"
      ]
     },
     "execution_count": 18,
     "metadata": {},
     "output_type": "execute_result"
    }
   ],
   "source": [
    "mlb.classes_"
   ]
  },
  {
   "cell_type": "code",
   "execution_count": 19,
   "metadata": {},
   "outputs": [
    {
     "data": {
      "text/plain": [
       "array([[1, 0, 0, 0, 0, 1, 0, 0, 1, 0],\n",
       "       [0, 0, 1, 0, 0, 0, 0, 0, 0, 0],\n",
       "       [0, 0, 1, 1, 0, 0, 0, 0, 0, 0],\n",
       "       [0, 0, 0, 0, 1, 0, 1, 1, 0, 1],\n",
       "       [1, 0, 0, 0, 0, 1, 0, 0, 1, 0],\n",
       "       [0, 0, 1, 0, 0, 0, 0, 0, 0, 0],\n",
       "       [0, 0, 0, 0, 1, 0, 1, 1, 0, 1],\n",
       "       [0, 0, 0, 0, 0, 1, 0, 0, 1, 0],\n",
       "       [1, 0, 0, 0, 0, 1, 0, 0, 1, 0],\n",
       "       [0, 1, 1, 0, 0, 0, 0, 0, 0, 0]])"
      ]
     },
     "execution_count": 19,
     "metadata": {},
     "output_type": "execute_result"
    }
   ],
   "source": [
    "y"
   ]
  },
  {
   "cell_type": "code",
   "execution_count": 20,
   "metadata": {},
   "outputs": [
    {
     "data": {
      "text/plain": [
       "(10, 10)"
      ]
     },
     "execution_count": 20,
     "metadata": {},
     "output_type": "execute_result"
    }
   ],
   "source": [
    "y.shape"
   ]
  },
  {
   "cell_type": "code",
   "execution_count": 21,
   "metadata": {},
   "outputs": [],
   "source": [
    "assert y.shape[0] == X.shape[0]\n",
    "assert y.shape[0] == len(inputs)"
   ]
  },
  {
   "cell_type": "markdown",
   "metadata": {},
   "source": [
    "### Training with `scikit-lean`"
   ]
  },
  {
   "cell_type": "code",
   "execution_count": 23,
   "metadata": {},
   "outputs": [],
   "source": [
    "from sklearn.multioutput import MultiOutputClassifier\n",
    "from sklearn.ensemble import RandomForestClassifier\n",
    "forest = RandomForestClassifier(random_state=1)\n",
    "model = MultiOutputClassifier(forest, n_jobs=-1)"
   ]
  },
  {
   "cell_type": "code",
   "execution_count": 24,
   "metadata": {},
   "outputs": [
    {
     "data": {
      "text/plain": [
       "MultiOutputClassifier(estimator=RandomForestClassifier(random_state=1),\n",
       "                      n_jobs=-1)"
      ]
     },
     "execution_count": 24,
     "metadata": {},
     "output_type": "execute_result"
    }
   ],
   "source": [
    "model.fit(X, y)"
   ]
  },
  {
   "cell_type": "markdown",
   "metadata": {},
   "source": [
    "### Prediction"
   ]
  },
  {
   "cell_type": "code",
   "execution_count": 33,
   "metadata": {},
   "outputs": [
    {
     "data": {
      "text/plain": [
       "<1x43 sparse matrix of type '<class 'numpy.int64'>'\n",
       "\twith 4 stored elements in Compressed Sparse Row format>"
      ]
     },
     "execution_count": 33,
     "metadata": {},
     "output_type": "execute_result"
    }
   ],
   "source": [
    "txt = \"Hi, when do you close?\"\n",
    "input_vector = vectorizer.transform([txt])\n",
    "input_vector"
   ]
  },
  {
   "cell_type": "code",
   "execution_count": 34,
   "metadata": {},
   "outputs": [
    {
     "name": "stdout",
     "output_type": "stream",
     "text": [
      "[[0 0 0 0 0 0 0 0 0 0]]\n"
     ]
    }
   ],
   "source": [
    "output_vector = model.predict(input_vector)\n",
    "print(output_vector)"
   ]
  },
  {
   "cell_type": "code",
   "execution_count": 35,
   "metadata": {},
   "outputs": [],
   "source": [
    "preds = {}\n",
    "classes = mlb.classes_\n",
    "for i, val in enumerate(output_vector[0]):\n",
    "    preds[classes[i]] = val"
   ]
  },
  {
   "cell_type": "code",
   "execution_count": 36,
   "metadata": {},
   "outputs": [
    {
     "data": {
      "text/plain": [
       "{'closing': 0,\n",
       " 'contact': 0,\n",
       " 'customer_support': 0,\n",
       " 'feedback': 0,\n",
       " 'food': 0,\n",
       " 'hours': 0,\n",
       " 'inventory': 0,\n",
       " 'menu': 0,\n",
       " 'opening': 0,\n",
       " 'products': 0}"
      ]
     },
     "execution_count": 36,
     "metadata": {},
     "output_type": "execute_result"
    }
   ],
   "source": [
    "preds"
   ]
  },
  {
   "cell_type": "code",
   "execution_count": 37,
   "metadata": {},
   "outputs": [],
   "source": [
    "def label_predictor(txt='Hello world'):\n",
    "    # pred\n",
    "    input_vector = vectorizer.transform([txt])\n",
    "    output_vector = model.predict(input_vector)\n",
    "    preds = {}\n",
    "    classes = mlb.classes_\n",
    "    for i, val in enumerate(output_vector[0]):\n",
    "        preds[classes[i]] = val\n",
    "    return preds"
   ]
  },
  {
   "cell_type": "code",
   "execution_count": 38,
   "metadata": {},
   "outputs": [
    {
     "data": {
      "text/plain": [
       "{'closing': 0,\n",
       " 'contact': 0,\n",
       " 'customer_support': 0,\n",
       " 'feedback': 0,\n",
       " 'food': 0,\n",
       " 'hours': 0,\n",
       " 'inventory': 0,\n",
       " 'menu': 0,\n",
       " 'opening': 0,\n",
       " 'products': 0}"
      ]
     },
     "execution_count": 38,
     "metadata": {},
     "output_type": "execute_result"
    }
   ],
   "source": [
    "label_predictor()"
   ]
  },
  {
   "cell_type": "code",
   "execution_count": 39,
   "metadata": {},
   "outputs": [
    {
     "data": {
      "text/plain": [
       "{'closing': 0,\n",
       " 'contact': 0,\n",
       " 'customer_support': 0,\n",
       " 'feedback': 0,\n",
       " 'food': 0,\n",
       " 'hours': 1,\n",
       " 'inventory': 0,\n",
       " 'menu': 0,\n",
       " 'opening': 1,\n",
       " 'products': 0}"
      ]
     },
     "execution_count": 39,
     "metadata": {},
     "output_type": "execute_result"
    }
   ],
   "source": [
    "label_predictor(\"When do you open?\")"
   ]
  },
  {
   "cell_type": "code",
   "execution_count": 40,
   "metadata": {},
   "outputs": [
    {
     "data": {
      "text/plain": [
       "{'closing': 0,\n",
       " 'contact': 0,\n",
       " 'customer_support': 0,\n",
       " 'feedback': 0,\n",
       " 'food': 0,\n",
       " 'hours': 0,\n",
       " 'inventory': 0,\n",
       " 'menu': 0,\n",
       " 'opening': 0,\n",
       " 'products': 0}"
      ]
     },
     "execution_count": 40,
     "metadata": {},
     "output_type": "execute_result"
    }
   ],
   "source": [
    "label_predictor(\"When are you opening tomorrow?\")"
   ]
  },
  {
   "cell_type": "markdown",
   "metadata": {},
   "source": [
    "### Export Model for Re-Use"
   ]
  },
  {
   "cell_type": "code",
   "execution_count": 42,
   "metadata": {},
   "outputs": [],
   "source": [
    "import pickle\n",
    "# classes\n",
    "# model\n",
    "# vectorizer\n",
    "\n",
    "model_data = {\n",
    "    \"classes\": list(mlb.classes_),\n",
    "    \"model\": model,\n",
    "    \"vectorizer\": vectorizer\n",
    "}\n",
    "\n",
    "with open(\"model.pkl\", 'wb') as f:\n",
    "    pickle.dump(model_data, f)"
   ]
  },
  {
   "cell_type": "markdown",
   "metadata": {},
   "source": [
    "### Re-use Exported Model"
   ]
  },
  {
   "cell_type": "code",
   "execution_count": 51,
   "metadata": {},
   "outputs": [
    {
     "data": {
      "text/plain": [
       "{'closing': 0,\n",
       " 'contact': 0,\n",
       " 'customer_support': 0,\n",
       " 'feedback': 0,\n",
       " 'food': 0,\n",
       " 'hours': 1,\n",
       " 'inventory': 0,\n",
       " 'menu': 0,\n",
       " 'opening': 1,\n",
       " 'products': 0}"
      ]
     },
     "execution_count": 51,
     "metadata": {},
     "output_type": "execute_result"
    }
   ],
   "source": [
    "model_loaded_data = {}\n",
    "\n",
    "with open(\"model.pkl\", 'rb') as f:\n",
    "    model_loaded_data = pickle.loads(f.read())\n",
    "\n",
    "def label_predictor_from_export(txt='Hello world', \n",
    "                                vectorizer=None, \n",
    "                                model=None, \n",
    "                                classes=[], \n",
    "                                *args, \n",
    "                                **kwargs):\n",
    "    # pred\n",
    "    assert(vectorizer!=None)\n",
    "    assert(model != None)\n",
    "    input_vector = vectorizer.transform([txt])\n",
    "    output_vector = model.predict(input_vector)\n",
    "    assert(len(output_vector[0]) == len(classes))\n",
    "    preds = {}\n",
    "    classes = mlb.classes_\n",
    "    for i, val in enumerate(output_vector[0]):\n",
    "        preds[classes[i]] = val\n",
    "    return preds\n",
    "\n",
    "label_predictor_from_export(\"When does your kitchen close?\", **model_loaded_data)"
   ]
  },
  {
   "cell_type": "markdown",
   "metadata": {},
   "source": [
    "### Retraining with New Data"
   ]
  },
  {
   "cell_type": "code",
   "execution_count": 55,
   "metadata": {},
   "outputs": [],
   "source": [
    "from sklearn.feature_extraction.text import CountVectorizer\n",
    "from sklearn.preprocessing import MultiLabelBinarizer\n",
    "from sklearn.multioutput import MultiOutputClassifier\n",
    "from sklearn.ensemble import RandomForestClassifier\n",
    "\n",
    "def train(dataset, train_col='customer', label_col='tags', export_path='model.pkl'):\n",
    "    inputs = [x[train_col] for x in dataset]\n",
    "    outputs = [x[label_col] for x in dataset]\n",
    "    assert(len(inputs) == len(outputs))\n",
    "    vectorizer = CountVectorizer()\n",
    "    X = vectorizer.fit_transform(inputs)\n",
    "    mlb = MultiLabelBinarizer()\n",
    "    y = mlb.fit_transform(outputs)\n",
    "    classes = list(mlb.classes_)\n",
    "    forest = RandomForestClassifier(random_state=1)\n",
    "    model = MultiOutputClassifier(forest, n_jobs=-1)\n",
    "    model.fit(X, y)\n",
    "    model_data = {\n",
    "        \"classes\": list(mlb.classes_),\n",
    "        \"model\": model,\n",
    "        \"vectorizer\": vectorizer\n",
    "    }\n",
    "    with open(export_path, 'wb') as f:\n",
    "        pickle.dump(model_data, f)\n",
    "    return export_path"
   ]
  },
  {
   "cell_type": "code",
   "execution_count": 67,
   "metadata": {},
   "outputs": [
    {
     "data": {
      "text/plain": [
       "[{'customer': 'Hi there, what time do you open tomorrow for lunch?',\n",
       "  'tags': ['opening', 'closing', 'hours']},\n",
       " {'customer': 'Can I speak to your manager?', 'tags': ['customer_support']},\n",
       " {'customer': 'The food was amazing thank you!',\n",
       "  'tags': ['customer_support', 'feedback']},\n",
       " {'customer': 'What type of products do you have?',\n",
       "  'tags': ['products', 'menu', 'inventory', 'food']},\n",
       " {'customer': 'How late is your kitchen open?',\n",
       "  'tags': ['opening', 'hours', 'closing']},\n",
       " {'customer': 'My order was prepared incorrectly, how can I get this fixed?',\n",
       "  'tags': ['customer_support']},\n",
       " {'customer': 'What kind of meats do you have?',\n",
       "  'tags': ['menu', 'products', 'inventory', 'food']},\n",
       " {'customer': 'When does your dining room open?',\n",
       "  'tags': ['opening', 'hours']},\n",
       " {'customer': 'When do you open for dinner?',\n",
       "  'tags': ['opening', 'hours', 'closing']},\n",
       " {'customer': 'How do I contact you?',\n",
       "  'tags': ['contact', 'customer_support']},\n",
       " {'customer': 'When does the kitchen close?',\n",
       "  'tags': ['closing', 'hours', 'opening']},\n",
       " {'customer': 'What are your menu items?',\n",
       "  'tags': ['menu', 'products', 'inventory', 'food']}]"
      ]
     },
     "execution_count": 67,
     "metadata": {},
     "output_type": "execute_result"
    }
   ],
   "source": [
    "# dataset"
   ]
  },
  {
   "cell_type": "code",
   "execution_count": 62,
   "metadata": {},
   "outputs": [
    {
     "data": {
      "text/plain": [
       "'model2.pkl'"
      ]
     },
     "execution_count": 62,
     "metadata": {},
     "output_type": "execute_result"
    }
   ],
   "source": [
    "train(dataset, export_path='model2.pkl')"
   ]
  },
  {
   "cell_type": "code",
   "execution_count": 65,
   "metadata": {},
   "outputs": [
    {
     "data": {
      "text/plain": [
       "{'closing': 0,\n",
       " 'contact': 0,\n",
       " 'customer_support': 0,\n",
       " 'feedback': 0,\n",
       " 'food': 1,\n",
       " 'hours': 0,\n",
       " 'inventory': 1,\n",
       " 'menu': 1,\n",
       " 'opening': 0,\n",
       " 'products': 1}"
      ]
     },
     "execution_count": 65,
     "metadata": {},
     "output_type": "execute_result"
    }
   ],
   "source": [
    "model_loaded_data = {}\n",
    "\n",
    "with open(\"model2.pkl\", 'rb') as f:\n",
    "    model_loaded_data = pickle.loads(f.read())\n",
    "    \n",
    "label_predictor_from_export(\"What is your favorite menu item?\", **model_loaded_data)"
   ]
  },
  {
   "cell_type": "code",
   "execution_count": null,
   "metadata": {},
   "outputs": [],
   "source": []
  }
 ],
 "metadata": {
  "kernelspec": {
   "display_name": "Python 3",
   "language": "python",
   "name": "python3"
  },
  "language_info": {
   "codemirror_mode": {
    "name": "ipython",
    "version": 3
   },
   "file_extension": ".py",
   "mimetype": "text/x-python",
   "name": "python",
   "nbconvert_exporter": "python",
   "pygments_lexer": "ipython3",
   "version": "3.8.2"
  }
 },
 "nbformat": 4,
 "nbformat_minor": 4
}
