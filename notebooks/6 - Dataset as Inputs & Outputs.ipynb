{
 "cells": [
  {
   "cell_type": "markdown",
   "metadata": {},
   "source": [
    "__Scenario 1__\n",
    "\n",
    "Bill: `Hi there, what time do you open tomorrow for lunch?`\n",
    "\n",
    "Bot: `Our hours are 9am-10pm everday.`\n",
    "\n",
    "__Scenario 2__\n",
    "\n",
    "Karen: `Can I speak to your manager?`\n",
    "\n",
    "Bot: `You can contact our customer support at 555-555-555.5`\n",
    "\n",
    "\n",
    "__Scenario 3__\n",
    "\n",
    "Wade: `What type of products do you have?`\n",
    "\n",
    "Bot: `We carry various food items including tacos, nachos, burritos, and salads.`"
   ]
  },
  {
   "cell_type": "code",
   "execution_count": 1,
   "metadata": {},
   "outputs": [],
   "source": [
    "conversations = [\n",
    "    {\n",
    "        \"customer\": \"Hi there, what time do you open tomorrow for lunch?\",\n",
    "        \"response\": \"Our hours are 9am-10pm everday.\"\n",
    "    },\n",
    "     {\n",
    "        \"customer\": \"Can I speak to your manager?\",\n",
    "        \"response\": \"You can contact our customer support at 555-555-5555.\"\n",
    "    },\n",
    "     {\n",
    "        \"customer\": \"What type of products do you have?\",\n",
    "        \"response\": \"We carry various food items including tacos, nachos, burritos, and salads.\"\n",
    "    }  \n",
    "    \n",
    "]"
   ]
  },
  {
   "cell_type": "code",
   "execution_count": 2,
   "metadata": {},
   "outputs": [],
   "source": [
    "# while True:\n",
    "#     my_input = input(\"What is your question?\\n\")\n",
    "#     response = None\n",
    "#     for convo in conversations:\n",
    "#         if convo['customer'] == my_input:\n",
    "#             response = convo['response']\n",
    "#     if response != None:\n",
    "#         print(response)\n",
    "#         break\n",
    "#     print(\"I don't know\")\n",
    "#     continue"
   ]
  },
  {
   "cell_type": "code",
   "execution_count": 3,
   "metadata": {},
   "outputs": [],
   "source": [
    "convos_one = [\n",
    "    {\n",
    "        \"customer\": \"Hi there, what time do you open tomorrow for lunch?\",\n",
    "        \"tags\": [\"opening\", \"closing\", \"hours\"],\n",
    "    },\n",
    "     {\n",
    "        \"customer\": \"Can I speak to your manager?\",\n",
    "        \"tags\": [\"customer_support\"],\n",
    "    },\n",
    "    {\n",
    "        \"customer\": \"The food was amazing thank you!\",\n",
    "        \"tags\": [\"customer_support\", \"feedback\"],\n",
    "    },\n",
    "     {\n",
    "      \"customer\": \"What type of products do you have?\",\n",
    "       \"tags\": [\"products\", \"menu\", \"inventory\", \"food\"],\n",
    "    }  \n",
    "    \n",
    "]"
   ]
  },
  {
   "cell_type": "code",
   "execution_count": 4,
   "metadata": {},
   "outputs": [],
   "source": [
    "convos_two = [\n",
    "    {\n",
    "        \"customer\": \"How late is your kitchen open?\",\n",
    "        \"tags\": [\"opening\", \"hours\", \"closing\"],\n",
    "    },\n",
    "     {\n",
    "        \"customer\": \"My order was prepared incorrectly, how can I get this fixed?\",\n",
    "        \"tags\": [\"customer_support\"],\n",
    "    },\n",
    "    {\n",
    "        \"customer\": \"What kind of meats do you have?\",\n",
    "        \"tags\": [\"menu\", \"products\", \"inventory\", \"food\"],\n",
    "    }\n",
    "]"
   ]
  },
  {
   "cell_type": "code",
   "execution_count": 6,
   "metadata": {},
   "outputs": [],
   "source": [
    "convos_three = [\n",
    "    {\n",
    "        \"customer\": \"When does your dining room open?\",\n",
    "        \"tags\": ['opening', 'hours'],\n",
    "    },\n",
    "     {\n",
    "        \"customer\": \"When do you open for dinner?\",\n",
    "        \"tags\": ['opening', 'hours', \"closing\"],\n",
    "    },\n",
    "    {\n",
    "        \"customer\": \"How do I contact you?\",\n",
    "        \"tags\": [\"contact\", \"customer_support\"]\n",
    "    }\n",
    "]"
   ]
  },
  {
   "cell_type": "code",
   "execution_count": 11,
   "metadata": {},
   "outputs": [
    {
     "data": {
      "text/plain": [
       "[{'customer': 'Hi there, what time do you open tomorrow for lunch?',\n",
       "  'tags': ['opening', 'closing', 'hours']},\n",
       " {'customer': 'Can I speak to your manager?', 'tags': ['customer_support']},\n",
       " {'customer': 'The food was amazing thank you!',\n",
       "  'tags': ['customer_support', 'feedback']},\n",
       " {'customer': 'What type of products do you have?',\n",
       "  'tags': ['products', 'menu', 'inventory', 'food']},\n",
       " {'customer': 'How late is your kitchen open?',\n",
       "  'tags': ['opening', 'hours', 'closing']},\n",
       " {'customer': 'My order was prepared incorrectly, how can I get this fixed?',\n",
       "  'tags': ['customer_support']},\n",
       " {'customer': 'What kind of meats do you have?',\n",
       "  'tags': ['menu', 'products', 'inventory', 'food']},\n",
       " {'customer': 'When does your dining room open?',\n",
       "  'tags': ['opening', 'hours']},\n",
       " {'customer': 'When do you open for dinner?', 'tags': ['opening', 'hours']},\n",
       " {'customer': 'How do I contact you?',\n",
       "  'tags': ['contact', 'customer_support']}]"
      ]
     },
     "execution_count": 11,
     "metadata": {},
     "output_type": "execute_result"
    }
   ],
   "source": [
    "dataset = convos_one + convos_two + convos_three\n",
    "dataset"
   ]
  },
  {
   "cell_type": "code",
   "execution_count": 12,
   "metadata": {},
   "outputs": [
    {
     "name": "stdout",
     "output_type": "stream",
     "text": [
      "['Hi there, what time do you open tomorrow for lunch?', 'Can I speak to your manager?', 'The food was amazing thank you!', 'What type of products do you have?', 'How late is your kitchen open?', 'My order was prepared incorrectly, how can I get this fixed?', 'What kind of meats do you have?', 'When does your dining room open?', 'When do you open for dinner?', 'How do I contact you?']\n"
     ]
    }
   ],
   "source": [
    "inputs = [x['customer'] for x in dataset]\n",
    "print(inputs)"
   ]
  },
  {
   "cell_type": "code",
   "execution_count": 13,
   "metadata": {},
   "outputs": [
    {
     "name": "stdout",
     "output_type": "stream",
     "text": [
      "[['opening', 'closing', 'hours'], ['customer_support'], ['customer_support', 'feedback'], ['products', 'menu', 'inventory', 'food'], ['opening', 'hours', 'closing'], ['customer_support'], ['menu', 'products', 'inventory', 'food'], ['opening', 'hours'], ['opening', 'hours'], ['contact', 'customer_support']]\n"
     ]
    }
   ],
   "source": [
    "outputs = [x['tags'] for x in dataset]\n",
    "print(outputs)"
   ]
  },
  {
   "cell_type": "code",
   "execution_count": 16,
   "metadata": {},
   "outputs": [],
   "source": [
    "assert(len(inputs) == len(outputs))"
   ]
  },
  {
   "cell_type": "code",
   "execution_count": 18,
   "metadata": {},
   "outputs": [
    {
     "name": "stdout",
     "output_type": "stream",
     "text": [
      "How late is your kitchen open? ['opening', 'hours', 'closing']\n",
      "{'customer': 'How late is your kitchen open?', 'tags': ['opening', 'hours', 'closing']}\n"
     ]
    }
   ],
   "source": [
    "idx = 4\n",
    "print(inputs[idx], outputs[idx])\n",
    "print(dataset[idx])"
   ]
  },
  {
   "cell_type": "markdown",
   "metadata": {},
   "source": [
    "- `customer`: These values are really the `input` values for our ML project. Input values are sometimes called `source`, `feature`, `training`, `X`, `X_train`/`X_test`/`X_valid`, and a few others.\n",
    "- `tags`: These values are really the `output` values for our ML project. Output values are sometimes called `target`, `labels`, `y`, `y_train`/`y_test`/`y_valid`, `classes`/`class`, and a few others."
   ]
  },
  {
   "cell_type": "code",
   "execution_count": null,
   "metadata": {},
   "outputs": [],
   "source": [
    "def my_pred_function(inputs):\n",
    "    # pred\n",
    "    outputs = inputs * 0.39013 # \n",
    "    return outputs"
   ]
  }
 ],
 "metadata": {
  "kernelspec": {
   "display_name": "Python 3",
   "language": "python",
   "name": "python3"
  },
  "language_info": {
   "codemirror_mode": {
    "name": "ipython",
    "version": 3
   },
   "file_extension": ".py",
   "mimetype": "text/x-python",
   "name": "python",
   "nbconvert_exporter": "python",
   "pygments_lexer": "ipython3",
   "version": "3.8.2"
  }
 },
 "nbformat": 4,
 "nbformat_minor": 4
}
